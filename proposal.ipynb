{
 "cells": [
  {
   "cell_type": "markdown",
   "id": "00c422dd-75a1-42e9-aee5-012eddfa87dc",
   "metadata": {},
   "source": [
    "# Title"
   ]
  },
  {
   "cell_type": "markdown",
   "id": "c38788bc-8476-4132-9989-37c34987c172",
   "metadata": {},
   "source": [
    "# Introduction"
   ]
  },
  {
   "cell_type": "markdown",
   "id": "fa492748-43c7-4fcd-b7e6-0269086dfe2c",
   "metadata": {},
   "source": []
  },
  {
   "cell_type": "markdown",
   "id": "9cd0c6f7-36df-4bb1-bc2a-79e4ed1f4657",
   "metadata": {},
   "source": [
    "# Exploratory Data Analysis"
   ]
  },
  {
   "cell_type": "markdown",
   "id": "bdd700cd-93bc-4a4a-82e1-6edf13ea2cde",
   "metadata": {},
   "source": []
  },
  {
   "cell_type": "markdown",
   "id": "68d71324-af17-4261-ad6c-097f39bcb725",
   "metadata": {},
   "source": [
    "# Methods: Plan"
   ]
  },
  {
   "cell_type": "markdown",
   "id": "c2999385-d313-4946-9043-f4aa38fb12c9",
   "metadata": {},
   "source": []
  },
  {
   "cell_type": "markdown",
   "id": "aadf3b1c-5459-4d94-92d1-3459b2250021",
   "metadata": {},
   "source": [
    "# References"
   ]
  },
  {
   "cell_type": "markdown",
   "id": "3d2a8590-f504-43a7-a063-653c3964b1f8",
   "metadata": {},
   "source": []
  }
 ],
 "metadata": {
  "kernelspec": {
   "display_name": "R",
   "language": "R",
   "name": "ir"
  },
  "language_info": {
   "codemirror_mode": "r",
   "file_extension": ".r",
   "mimetype": "text/x-r-source",
   "name": "R",
   "pygments_lexer": "r",
   "version": "4.1.0"
  }
 },
 "nbformat": 4,
 "nbformat_minor": 5
}
