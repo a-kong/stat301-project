{
 "cells": [
  {
   "cell_type": "markdown",
   "id": "00c422dd-75a1-42e9-aee5-012eddfa87dc",
   "metadata": {},
   "source": [
    "# Title"
   ]
  },
  {
   "cell_type": "markdown",
   "id": "c38788bc-8476-4132-9989-37c34987c172",
   "metadata": {},
   "source": [
    "# Introduction"
   ]
  },
  {
   "cell_type": "markdown",
   "id": "fa492748-43c7-4fcd-b7e6-0269086dfe2c",
   "metadata": {},
   "source": []
  },
  {
   "cell_type": "markdown",
   "id": "9cd0c6f7-36df-4bb1-bc2a-79e4ed1f4657",
   "metadata": {},
   "source": [
    "# Exploratory Data Analysis"
   ]
  },
  {
   "cell_type": "code",
   "execution_count": 33,
   "id": "8cb1f619-954a-4244-a90a-ca5da7ab9faf",
   "metadata": {},
   "outputs": [],
   "source": [
    "library(tidyverse)\n",
    "library(repr)\n",
    "library(digest)\n",
    "library(infer)\n",
    "library(broom)\n",
    "library(dplyr)"
   ]
  },
  {
   "cell_type": "code",
   "execution_count": 44,
   "id": "dcd1ceec-0d7f-446d-ab53-27a5d161f9d9",
   "metadata": {},
   "outputs": [
    {
     "name": "stderr",
     "output_type": "stream",
     "text": [
      "\n",
      "\u001b[36m──\u001b[39m \u001b[1m\u001b[1mColumn specification\u001b[1m\u001b[22m \u001b[36m────────────────────────────────────────────────────────\u001b[39m\n",
      "cols(\n",
      "  .default = col_character(),\n",
      "  ID = \u001b[32mcol_double()\u001b[39m,\n",
      "  BIRTHDATE = \u001b[34mcol_datetime(format = \"\")\u001b[39m,\n",
      "  HEIGHT = \u001b[32mcol_double()\u001b[39m,\n",
      "  WEIGHT = \u001b[32mcol_double()\u001b[39m,\n",
      "  SEASON_EXP = \u001b[32mcol_double()\u001b[39m,\n",
      "  TEAM_ID = \u001b[32mcol_double()\u001b[39m,\n",
      "  FROM_YEAR = \u001b[32mcol_double()\u001b[39m,\n",
      "  TO_YEAR = \u001b[32mcol_double()\u001b[39m,\n",
      "  PTS = \u001b[32mcol_double()\u001b[39m,\n",
      "  AST = \u001b[32mcol_double()\u001b[39m,\n",
      "  REB = \u001b[32mcol_double()\u001b[39m,\n",
      "  ALL_STAR_APPEARANCES = \u001b[32mcol_double()\u001b[39m,\n",
      "  PIE = \u001b[32mcol_double()\u001b[39m\n",
      ")\n",
      "\u001b[36mℹ\u001b[39m Use \u001b[30m\u001b[47m\u001b[30m\u001b[47m`spec()`\u001b[47m\u001b[30m\u001b[49m\u001b[39m for the full column specifications.\n",
      "\n",
      "\n"
     ]
    },
    {
     "data": {
      "text/html": [
       "<table class=\"dataframe\">\n",
       "<caption>A tibble: 6 × 4</caption>\n",
       "<thead>\n",
       "\t<tr><th scope=col>WEIGHT</th><th scope=col>SEASON_EXP</th><th scope=col>PTS</th><th scope=col>DIVISION</th></tr>\n",
       "\t<tr><th scope=col>&lt;dbl&gt;</th><th scope=col>&lt;dbl&gt;</th><th scope=col>&lt;dbl&gt;</th><th scope=col>&lt;chr&gt;</th></tr>\n",
       "</thead>\n",
       "<tbody>\n",
       "\t<tr><td>240</td><td> 4</td><td> 5.7</td><td>Northwest</td></tr>\n",
       "\t<tr><td>235</td><td> 9</td><td> 9.0</td><td>Southwest</td></tr>\n",
       "\t<tr><td>225</td><td>19</td><td>24.6</td><td>Pacific  </td></tr>\n",
       "\t<tr><td>162</td><td> 8</td><td>14.6</td><td>Southwest</td></tr>\n",
       "\t<tr><td>235</td><td> 6</td><td> 7.8</td><td>Pacific  </td></tr>\n",
       "\t<tr><td>245</td><td>12</td><td>18.1</td><td>Southwest</td></tr>\n",
       "</tbody>\n",
       "</table>\n"
      ],
      "text/latex": [
       "A tibble: 6 × 4\n",
       "\\begin{tabular}{llll}\n",
       " WEIGHT & SEASON\\_EXP & PTS & DIVISION\\\\\n",
       " <dbl> & <dbl> & <dbl> & <chr>\\\\\n",
       "\\hline\n",
       "\t 240 &  4 &  5.7 & Northwest\\\\\n",
       "\t 235 &  9 &  9.0 & Southwest\\\\\n",
       "\t 225 & 19 & 24.6 & Pacific  \\\\\n",
       "\t 162 &  8 & 14.6 & Southwest\\\\\n",
       "\t 235 &  6 &  7.8 & Pacific  \\\\\n",
       "\t 245 & 12 & 18.1 & Southwest\\\\\n",
       "\\end{tabular}\n"
      ],
      "text/markdown": [
       "\n",
       "A tibble: 6 × 4\n",
       "\n",
       "| WEIGHT &lt;dbl&gt; | SEASON_EXP &lt;dbl&gt; | PTS &lt;dbl&gt; | DIVISION &lt;chr&gt; |\n",
       "|---|---|---|---|\n",
       "| 240 |  4 |  5.7 | Northwest |\n",
       "| 235 |  9 |  9.0 | Southwest |\n",
       "| 225 | 19 | 24.6 | Pacific   |\n",
       "| 162 |  8 | 14.6 | Southwest |\n",
       "| 235 |  6 |  7.8 | Pacific   |\n",
       "| 245 | 12 | 18.1 | Southwest |\n",
       "\n"
      ],
      "text/plain": [
       "  WEIGHT SEASON_EXP PTS  DIVISION \n",
       "1 240     4          5.7 Northwest\n",
       "2 235     9          9.0 Southwest\n",
       "3 225    19         24.6 Pacific  \n",
       "4 162     8         14.6 Southwest\n",
       "5 235     6          7.8 Pacific  \n",
       "6 245    12         18.1 Southwest"
      ]
     },
     "metadata": {},
     "output_type": "display_data"
    }
   ],
   "source": [
    "player_attributes <- read_csv(\"data/Player_Attributes.csv\") %>% select(WEIGHT, SEASON_EXP, TEAM_NAME, PTS)  %>% filter(!is.na(TEAM_NAME)) %>% filter(!TEAM_NAME %in% \n",
    "                                                                                                                                                     c(\"Ironmen\", \"Stags\", \"Bombers\", \"Olympians\", \"Capitols\", \n",
    "                                                                                                                                                      \"Rebels\", \"Steamrollers\", \"Huskies\", \"Packers\", \n",
    "                                                                                                                                                      \"Jets\", \"Redskins\", \"Zephyrs\"))\n",
    "initialTeamNames <- unique(player_attributes$TEAM_NAME)\n",
    "Atlantic <- c(\"Knicks\", \"Nationals\", \"Nets\", \"Celtics\", \"Raptors\", \"76ers\")\n",
    "Central <- c(\"Pistons\", \"Cavaliers\", \"Bucks\", \"Bulls\", \"Pacers\")\n",
    "Southeast <- c(\"Magic\", \"Heat\", \"Bullets\", \"Wizards\", \"Hawks\", \"Hornets\", \"Falcons\", \"Blackhawks\", \"Bobcats\")\n",
    "Northwest <- c(\"Trail Blazers\", \"Jazz\", \"Timberwolves\", \"SuperSonics\", \"Thunder\")\n",
    "Pacific <- c(\"Lakers\", \"Kings\", \"Warriors\", \"Clippers\", \"Suns\", \"Royals\", \"Braves\")\n",
    "Southwest <- c(\"Rockets\", \"Nuggets\", \"Grizzlies\", \"Pelicans\", \"Mavericks\", \"Spurs\")\n",
    "player_attributes <- player_attributes %>% mutate(DIVISION = if_else(TEAM_NAME %in% Atlantic, \"Atlantic\", if_else(TEAM_NAME %in% Central, \"Central\", if_else(TEAM_NAME %in% Southeast, \"Southeast\", if_else(TEAM_NAME %in% Northwest, \"Northwest\", if_else(TEAM_NAME %in% Pacific, \"Pacific\", \"Southwest\"))))))\n",
    "player_attributes <- select(player_attributes, -TEAM_NAME)\n",
    "head(player_attributes)"
   ]
  },
  {
   "cell_type": "markdown",
   "id": "68d71324-af17-4261-ad6c-097f39bcb725",
   "metadata": {},
   "source": [
    "# Methods: Plan"
   ]
  },
  {
   "cell_type": "markdown",
   "id": "c2999385-d313-4946-9043-f4aa38fb12c9",
   "metadata": {},
   "source": []
  },
  {
   "cell_type": "markdown",
   "id": "aadf3b1c-5459-4d94-92d1-3459b2250021",
   "metadata": {},
   "source": [
    "# References"
   ]
  },
  {
   "cell_type": "markdown",
   "id": "3d2a8590-f504-43a7-a063-653c3964b1f8",
   "metadata": {},
   "source": []
  }
 ],
 "metadata": {
  "kernelspec": {
   "display_name": "R",
   "language": "R",
   "name": "ir"
  },
  "language_info": {
   "codemirror_mode": "r",
   "file_extension": ".r",
   "mimetype": "text/x-r-source",
   "name": "R",
   "pygments_lexer": "r",
   "version": "4.1.0"
  }
 },
 "nbformat": 4,
 "nbformat_minor": 5
}
